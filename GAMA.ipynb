{
  "nbformat": 4,
  "nbformat_minor": 0,
  "metadata": {
    "colab": {
      "name": "GAMA.ipynb",
      "provenance": [],
      "collapsed_sections": [],
      "mount_file_id": "187LU9n73wgMF2ibEt2uJB3mYW21YCZMi",
      "authorship_tag": "ABX9TyOYQAblk4UtgPl4vhLoVo7i",
      "include_colab_link": true
    },
    "kernelspec": {
      "name": "python3",
      "display_name": "Python 3"
    },
    "language_info": {
      "name": "python"
    }
  },
  "cells": [
    {
      "cell_type": "markdown",
      "metadata": {
        "id": "view-in-github",
        "colab_type": "text"
      },
      "source": [
        "<a href=\"https://colab.research.google.com/github/padmapraba/AutoML-Packages/blob/main/GAMA.ipynb\" target=\"_parent\"><img src=\"https://colab.research.google.com/assets/colab-badge.svg\" alt=\"Open In Colab\"/></a>"
      ]
    },
    {
      "cell_type": "code",
      "execution_count": null,
      "metadata": {
        "id": "9Fc52KnCKPIX"
      },
      "outputs": [],
      "source": [
        "pip install gama"
      ]
    },
    {
      "cell_type": "code",
      "source": [
        "from sklearn.datasets import load_breast_cancer\n",
        "from sklearn.datasets import make_moons, make_circles, make_classification\n",
        "from sklearn.model_selection import train_test_split\n",
        "from sklearn.metrics import log_loss, accuracy_score\n",
        "import numpy as np\n",
        "import logging\n",
        "import sys\n",
        "from sklearn.metrics import roc_curve, roc_auc_score\n",
        "from gama import GamaClassifier\n"
      ],
      "metadata": {
        "id": "rkec_oGWKaQE"
      },
      "execution_count": null,
      "outputs": []
    },
    {
      "cell_type": "markdown",
      "source": [
        "# Breast Cancer Dataset"
      ],
      "metadata": {
        "id": "6OGd_EOojqsP"
      }
    },
    {
      "cell_type": "code",
      "source": [
        "# load data and split\n",
        "X, y = load_breast_cancer(return_X_y=True)\n",
        "X_train, X_test, y_train, y_test = train_test_split(X, y, stratify=y, random_state=0)"
      ],
      "metadata": {
        "id": "HSiShIEUXoIL"
      },
      "execution_count": null,
      "outputs": []
    },
    {
      "cell_type": "code",
      "source": [
        "# set up logging \n",
        "gama_log = logging.getLogger('gama')\n",
        "gama_log.setLevel(logging.INFO)\n",
        "\n",
        "fh_log = logging.FileHandler('logfile.txt')\n",
        "fh_log.setLevel(logging.INFO)\n",
        "gama_log.addHandler(fh_log)\n",
        "\n",
        "cancer = GamaClassifier(max_total_time=180, verbosity=logging.INFO, store=\"nothing\")\n",
        "cancer.fit(X_train, y_train)\n",
        "\n"
      ],
      "metadata": {
        "colab": {
          "base_uri": "https://localhost:8080/"
        },
        "id": "rmVDa0UbR1wa",
        "outputId": "73536be1-898b-4ca0-85ff-1a1a5619d5ee"
      },
      "execution_count": null,
      "outputs": [
        {
          "output_type": "stream",
          "name": "stdout",
          "text": [
            "Using GAMA version 21.0.1.\n",
            "INIT:GamaClassifier(scoring=neg_log_loss,regularize_length=True,max_pipeline_length=None,random_state=None,max_total_time=180,max_eval_time=None,n_jobs=None,max_memory_mb=None,verbosity=20,search=AsyncEA(),post_processing=BestFitPostProcessing(),output_directory=gama_bb234bde-d208-4c21-8c5a-70af9225423f,store=nothing,goal=simplicity)\n",
            "START: preprocessing default\n",
            "STOP: preprocessing default after 0.1849s.\n",
            "START: search AsyncEA\n",
            "Starting EA with new population.\n",
            "Search phase evaluated 290 individuals.\n",
            "STOP: search AsyncEA after 161.0406s.\n",
            "START: postprocess BestFitPostProcessing\n",
            "STOP: postprocess BestFitPostProcessing after 0.1176s.\n"
          ]
        }
      ]
    },
    {
      "cell_type": "code",
      "source": [
        "pred_label = cancer.predict(X_test)\n",
        "pred_prob = cancer.predict_proba(X_test)\n",
        "\n",
        "print('accuracy:', accuracy_score(y_test, pred_label))\n",
        "print('log loss:', log_loss(y_test, pred_prob))\n",
        "# the `score` function outputs the score on the metric optimized towards (by default, `log_loss`)\n",
        "print('log_loss', cancer.score(X_test, y_test))"
      ],
      "metadata": {
        "colab": {
          "base_uri": "https://localhost:8080/"
        },
        "id": "N5MbFx-RYlzA",
        "outputId": "022d62c4-459e-4383-af8f-b71a63fb90f6"
      },
      "execution_count": null,
      "outputs": [
        {
          "output_type": "stream",
          "name": "stdout",
          "text": [
            "accuracy: 0.951048951048951\n",
            "log loss: 0.1597032988451037\n",
            "log_loss 0.1597032988451037\n"
          ]
        }
      ]
    },
    {
      "cell_type": "code",
      "source": [
        "# roc\n",
        "fpr_cancer, tpr_cancer, thresh_cancer = roc_curve(y_test, pred_prob[:,1],pos_label=1)\n",
        "# auc\n",
        "auc_score_cancer = roc_auc_score(y_test, pred_prob[:,1])"
      ],
      "metadata": {
        "id": "agGFbR5niJRy"
      },
      "execution_count": null,
      "outputs": []
    },
    {
      "cell_type": "markdown",
      "source": [
        "# Circles"
      ],
      "metadata": {
        "id": "zv4759HjX_Ma"
      }
    },
    {
      "cell_type": "code",
      "source": [
        "circles_X, circles_y = make_circles(noise=0.2, random_state=1, factor=0.5)\n",
        "X_circ_train, X_circ_test, y_circ_train, y_circ_test = train_test_split(circles_X,circles_y,random_state=31)\n"
      ],
      "metadata": {
        "id": "OmKHKRVQakDI"
      },
      "execution_count": null,
      "outputs": []
    },
    {
      "cell_type": "code",
      "source": [
        "circle = GamaClassifier(max_total_time=180, verbosity=logging.INFO, store='nothing')\n",
        "circle.fit(X_circ_train, y_circ_train)\n",
        "\n",
        "label_predictions = circle.predict(X_circ_test)\n",
        "pred_prob = circle.predict_proba(X_circ_test)\n",
        "# roc & auc\n",
        "fpr_circ, tpr_circ, thresh_circ = roc_curve(y_circ_test, pred_prob[:,1],pos_label=1)\n",
        "auc_score_circ = roc_auc_score(y_circ_test, pred_prob[:,1])\n",
        "\n",
        "print('accuracy:', accuracy_score(y_circ_test, label_predictions))\n",
        "print('log loss:', log_loss(y_circ_test, pred_prob))\n",
        "# the `score` function outputs the score on the metric optimized towards (by default, `log_loss`)\n",
        "print('log_loss', circle.score(X_circ_test, y_circ_test))\n",
        "\n"
      ],
      "metadata": {
        "colab": {
          "base_uri": "https://localhost:8080/"
        },
        "id": "YwifwCRCa4V5",
        "outputId": "2b6a643d-954a-4966-caa1-7cc4e5f588d8"
      },
      "execution_count": null,
      "outputs": [
        {
          "output_type": "stream",
          "name": "stdout",
          "text": [
            "Using GAMA version 21.0.1.\n",
            "INIT:GamaClassifier(scoring=neg_log_loss,regularize_length=True,max_pipeline_length=None,random_state=None,max_total_time=180,max_eval_time=None,n_jobs=None,max_memory_mb=None,verbosity=20,search=AsyncEA(),post_processing=BestFitPostProcessing(),output_directory=gama_2eeba962-5583-40b6-a203-5fde76a54c1c,store=nothing,goal=simplicity)\n",
            "START: preprocessing default\n",
            "STOP: preprocessing default after 0.0090s.\n",
            "START: search AsyncEA\n",
            "Starting EA with new population.\n",
            "Search phase evaluated 461 individuals.\n",
            "STOP: search AsyncEA after 161.0126s.\n",
            "START: postprocess BestFitPostProcessing\n",
            "STOP: postprocess BestFitPostProcessing after 0.1241s.\n",
            "accuracy: 0.8\n",
            "log loss: 0.44833465940098505\n",
            "log_loss 0.44833465940098505\n"
          ]
        }
      ]
    },
    {
      "cell_type": "markdown",
      "source": [
        "# Moons Dataset"
      ],
      "metadata": {
        "id": "IU9fxGqzjwj1"
      }
    },
    {
      "cell_type": "code",
      "source": [
        "moon_X, moon_y = make_moons(noise=0.3, random_state=0)\n",
        "X_moon_train, X_moon_test, y_moon_train, y_moon_test = train_test_split(moon_X,moon_y,random_state=31)\n",
        "\n",
        "moon = GamaClassifier(max_total_time=180, verbosity=logging.INFO, store='nothing')\n",
        "moon.fit(X_moon_train, y_moon_train)\n",
        "\n",
        "label_predictions = moon.predict(X_moon_test)\n",
        "pred_prob = moon.predict_proba(X_moon_test)\n",
        "\n",
        "# roc & auc\n",
        "fpr_moon, tpr_moon, thresh_moon = roc_curve(y_moon_test, pred_prob[:,1],pos_label=1)\n",
        "auc_score_moon = roc_auc_score(y_moon_test, pred_prob[:,1])\n",
        "\n",
        "print('accuracy:', accuracy_score(y_moon_test, label_predictions))\n",
        "print('log loss:', log_loss(y_moon_test, pred_prob))\n",
        "# the `score` function outputs the score on the metric optimized towards (by default, `log_loss`)\n",
        "print('log_loss', moon.score(X_moon_test, y_moon_test))"
      ],
      "metadata": {
        "colab": {
          "base_uri": "https://localhost:8080/"
        },
        "id": "Zh9ZpbqTbzi9",
        "outputId": "6ae85aad-08e7-4635-a3be-123d28eb3f44"
      },
      "execution_count": null,
      "outputs": [
        {
          "output_type": "stream",
          "name": "stdout",
          "text": [
            "Using GAMA version 21.0.1.\n",
            "INIT:GamaClassifier(scoring=neg_log_loss,regularize_length=True,max_pipeline_length=None,random_state=None,max_total_time=180,max_eval_time=None,n_jobs=None,max_memory_mb=None,verbosity=20,search=AsyncEA(),post_processing=BestFitPostProcessing(),output_directory=gama_af19a3d0-d880-4717-b70c-8b415462cd71,store=nothing,goal=simplicity)\n",
            "START: preprocessing default\n",
            "STOP: preprocessing default after 0.0060s.\n",
            "START: search AsyncEA\n",
            "Starting EA with new population.\n",
            "Search phase evaluated 648 individuals.\n",
            "STOP: search AsyncEA after 161.0434s.\n",
            "START: postprocess BestFitPostProcessing\n",
            "STOP: postprocess BestFitPostProcessing after 0.0461s.\n",
            "accuracy: 0.88\n",
            "log loss: 0.31330539023474396\n",
            "log_loss 0.31330539023474396\n"
          ]
        }
      ]
    },
    {
      "cell_type": "markdown",
      "source": [
        "# Linearly Separable"
      ],
      "metadata": {
        "id": "TJ3FoIGWktST"
      }
    },
    {
      "cell_type": "code",
      "source": [
        "# linearly separable\n",
        "lin_X, lin_y = make_classification(\n",
        "    n_features=2,\n",
        "    n_redundant=0,\n",
        "    n_informative=2,\n",
        "    random_state=1,\n",
        "    n_clusters_per_class=1,\n",
        ")\n",
        "rng = np.random.RandomState(2)\n",
        "lin_X += 2 * rng.uniform(size=lin_X.shape)\n",
        "\n",
        "X_lin_train, X_lin_test, y_lin_train, y_lin_test = train_test_split(lin_X,lin_y,random_state=31)"
      ],
      "metadata": {
        "id": "ocXiGtl9kmOY"
      },
      "execution_count": null,
      "outputs": []
    },
    {
      "cell_type": "code",
      "source": [
        "linear = GamaClassifier(max_total_time=180, verbosity=logging.INFO, store='nothing')\n",
        "linear.fit(X_lin_train, y_lin_train)\n",
        "\n",
        "label_predictions = linear.predict(X_lin_test)\n",
        "pred_prob = linear.predict_proba(X_lin_test)\n",
        "\n",
        "fpr_lin, tpr_lin, thresh_lin = roc_curve(y_lin_test, pred_prob[:,1],pos_label=1)\n",
        "auc_score_lin = roc_auc_score(y_lin_test, pred_prob[:,1])\n",
        "\n",
        "print('accuracy:', accuracy_score(y_lin_test, label_predictions))\n",
        "print('log loss:', log_loss(y_lin_test, pred_prob))\n",
        "# the `score` function outputs the score on the metric optimized towards (by default, `log_loss`)\n",
        "print('log_loss', linear.score(X_lin_test, y_lin_test))"
      ],
      "metadata": {
        "colab": {
          "base_uri": "https://localhost:8080/"
        },
        "id": "j5bNFZAmk4RN",
        "outputId": "02402bd8-9950-4148-dd94-6057fc2b8b3a"
      },
      "execution_count": null,
      "outputs": [
        {
          "output_type": "stream",
          "name": "stdout",
          "text": [
            "Using GAMA version 21.0.1.\n",
            "INIT:GamaClassifier(scoring=neg_log_loss,regularize_length=True,max_pipeline_length=None,random_state=None,max_total_time=180,max_eval_time=None,n_jobs=None,max_memory_mb=None,verbosity=20,search=AsyncEA(),post_processing=BestFitPostProcessing(),output_directory=gama_83f27449-2dea-46f1-9c0a-bde4817c0f26,store=nothing,goal=simplicity)\n",
            "START: preprocessing default\n",
            "STOP: preprocessing default after 0.0106s.\n",
            "START: search AsyncEA\n",
            "Starting EA with new population.\n",
            "Search phase evaluated 653 individuals.\n",
            "STOP: search AsyncEA after 161.0568s.\n",
            "START: postprocess BestFitPostProcessing\n",
            "STOP: postprocess BestFitPostProcessing after 0.0118s.\n",
            "accuracy: 1.0\n",
            "log loss: 0.06632160377093348\n",
            "log_loss 0.06632160377093348\n"
          ]
        }
      ]
    },
    {
      "cell_type": "code",
      "source": [
        ""
      ],
      "metadata": {
        "id": "TvNwszdsleZu"
      },
      "execution_count": null,
      "outputs": []
    },
    {
      "cell_type": "markdown",
      "source": [
        "# ROC Curves\n"
      ],
      "metadata": {
        "id": "_qjl5Ye0pCJn"
      }
    },
    {
      "cell_type": "code",
      "source": [
        "import matplotlib.pyplot as plt\n",
        "plt.style.use('seaborn')\n",
        "\n",
        "\n",
        "\n",
        "# roc curve for tpr = fpr \n",
        "rand_prob= [0 for i in range(len(y_test))]\n",
        "p_fpr, p_tpr, _ = roc_curve(y_test, rand_prob,pos_label=1)\n",
        "\n",
        "\n",
        "# plot roc curves\n",
        "plt.plot(fpr_cancer, tpr_cancer, linestyle='--', color='orange',label= 'Breast Cancer GAMA')\n",
        "plt.plot(fpr_moon, tpr_moon, linestyle='--', color='green',label= 'Moons GAMA')\n",
        "plt.plot(fpr_circ, tpr_circ, linestyle='--', color='blue',label= 'Circles GAMA')\n",
        "plt.plot(fpr_lin, tpr_lin, linestyle='--', color='red',label= 'Linearly Separable GAMA')\n",
        "plt.plot(p_fpr, p_tpr, linestyle='--', color='black')\n",
        "plt.title(\"ROC Curve\")\n",
        "plt.xlabel(\"False Positive Rate\")\n",
        "plt.ylabel(\"True Positive Rate\")\n",
        "plt.legend(loc='best')\n",
        "plt.show()\n"
      ],
      "metadata": {
        "colab": {
          "base_uri": "https://localhost:8080/",
          "height": 376
        },
        "id": "O6-yKsRapEEf",
        "outputId": "4e19943d-d7f8-429d-e2a7-e3b9f8fd5241"
      },
      "execution_count": null,
      "outputs": [
        {
          "output_type": "display_data",
          "data": {
            "image/png": "[encoded data removed]",
            "text/plain": [
              "<Figure size 576x396 with 1 Axes>"
            ]
          },
          "metadata": {}
        }
      ]
    }
  ]
}