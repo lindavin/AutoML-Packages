{
  "cells": [
    {
      "cell_type": "markdown",
      "metadata": {
        "id": "view-in-github",
        "colab_type": "text"
      },
      "source": [
        "<a href=\"https://colab.research.google.com/github/padmapraba/AutoML-Packages/blob/main/Auto_Sklearn.ipynb\" target=\"_parent\"><img src=\"https://colab.research.google.com/assets/colab-badge.svg\" alt=\"Open In Colab\"/></a>"
      ]
    },
    {
      "cell_type": "code",
      "execution_count": null,
      "metadata": {
        "colab": {
          "base_uri": "https://localhost:8080/"
        },
        "id": "0lr_L5nwIYEo",
        "outputId": "fbf30fbc-d0c2-4c92-aca4-672bfb86cf6d"
      },
      "outputs": [
        {
          "name": "stdout",
          "output_type": "stream",
          "text": [
            "Reading package lists... Done\n",
            "Building dependency tree       \n",
            "Reading state information... Done\n",
            "build-essential is already the newest version (12.4ubuntu1).\n",
            "swig is already the newest version (3.0.12-1).\n",
            "0 upgraded, 0 newly installed, 0 to remove and 37 not upgraded.\n"
          ]
        }
      ],
      "source": [
        "!apt-get install build-essential swig "
      ]
    },
    {
      "cell_type": "code",
      "execution_count": null,
      "metadata": {
        "colab": {
          "base_uri": "https://localhost:8080/"
        },
        "id": "5p8HIy57HmT2",
        "outputId": "f4f15831-7232-4d92-f412-360af4bc4d04"
      },
      "outputs": [
        {
          "name": "stdout",
          "output_type": "stream",
          "text": [
            "Requirement already satisfied: auto-sklearn in /usr/local/lib/python3.7/dist-packages (0.14.2)\n",
            "Requirement already satisfied: scikit-learn<0.25.0,>=0.24.0 in /usr/local/lib/python3.7/dist-packages (from auto-sklearn) (0.24.2)\n",
            "Requirement already satisfied: setuptools in /usr/local/lib/python3.7/dist-packages (from auto-sklearn) (57.4.0)\n",
            "Requirement already satisfied: joblib in /usr/local/lib/python3.7/dist-packages (from auto-sklearn) (1.1.0)\n",
            "Requirement already satisfied: liac-arff in /usr/local/lib/python3.7/dist-packages (from auto-sklearn) (2.5.0)\n",
            "Requirement already satisfied: threadpoolctl in /usr/local/lib/python3.7/dist-packages (from auto-sklearn) (3.0.0)\n",
            "Requirement already satisfied: pyyaml in /usr/local/lib/python3.7/dist-packages (from auto-sklearn) (3.13)\n",
            "Requirement already satisfied: ConfigSpace<0.5,>=0.4.14 in /usr/local/lib/python3.7/dist-packages (from auto-sklearn) (0.4.20)\n",
            "Requirement already satisfied: smac>=0.14 in /usr/local/lib/python3.7/dist-packages (from auto-sklearn) (1.1.1)\n",
            "Requirement already satisfied: pandas>=1.0 in /usr/local/lib/python3.7/dist-packages (from auto-sklearn) (1.1.5)\n",
            "Requirement already satisfied: pynisher>=0.6.3 in /usr/local/lib/python3.7/dist-packages (from auto-sklearn) (0.6.4)\n",
            "Requirement already satisfied: typing-extensions in /usr/local/lib/python3.7/dist-packages (from auto-sklearn) (3.10.0.2)\n",
            "Requirement already satisfied: dask<2021.07 in /usr/local/lib/python3.7/dist-packages (from auto-sklearn) (2021.6.2)\n",
            "Requirement already satisfied: distributed<2021.07,>=2.2.0 in /usr/local/lib/python3.7/dist-packages (from auto-sklearn) (2021.6.2)\n",
            "Requirement already satisfied: numpy>=1.9.0 in /usr/local/lib/python3.7/dist-packages (from auto-sklearn) (1.19.5)\n",
            "Requirement already satisfied: pyrfr<0.9,>=0.8.1 in /usr/local/lib/python3.7/dist-packages (from auto-sklearn) (0.8.2)\n",
            "Requirement already satisfied: scipy>=1.7.0 in /usr/local/lib/python3.7/dist-packages (from auto-sklearn) (1.7.1)\n",
            "Requirement already satisfied: cython in /usr/local/lib/python3.7/dist-packages (from ConfigSpace<0.5,>=0.4.14->auto-sklearn) (0.29.24)\n",
            "Requirement already satisfied: pyparsing in /usr/local/lib/python3.7/dist-packages (from ConfigSpace<0.5,>=0.4.14->auto-sklearn) (3.0.6)\n",
            "Requirement already satisfied: cloudpickle>=1.1.1 in /usr/local/lib/python3.7/dist-packages (from dask<2021.07->auto-sklearn) (2.0.0)\n",
            "Requirement already satisfied: partd>=0.3.10 in /usr/local/lib/python3.7/dist-packages (from dask<2021.07->auto-sklearn) (1.2.0)\n",
            "Requirement already satisfied: fsspec>=0.6.0 in /usr/local/lib/python3.7/dist-packages (from dask<2021.07->auto-sklearn) (2021.11.1)\n",
            "Requirement already satisfied: toolz>=0.8.2 in /usr/local/lib/python3.7/dist-packages (from dask<2021.07->auto-sklearn) (0.11.2)\n",
            "Requirement already satisfied: psutil>=5.0 in /usr/local/lib/python3.7/dist-packages (from distributed<2021.07,>=2.2.0->auto-sklearn) (5.4.8)\n",
            "Requirement already satisfied: sortedcontainers!=2.0.0,!=2.0.1 in /usr/local/lib/python3.7/dist-packages (from distributed<2021.07,>=2.2.0->auto-sklearn) (2.4.0)\n",
            "Requirement already satisfied: click>=6.6 in /usr/local/lib/python3.7/dist-packages (from distributed<2021.07,>=2.2.0->auto-sklearn) (7.1.2)\n",
            "Requirement already satisfied: zict>=0.1.3 in /usr/local/lib/python3.7/dist-packages (from distributed<2021.07,>=2.2.0->auto-sklearn) (2.0.0)\n",
            "Requirement already satisfied: tblib>=1.6.0 in /usr/local/lib/python3.7/dist-packages (from distributed<2021.07,>=2.2.0->auto-sklearn) (1.7.0)\n",
            "Requirement already satisfied: tornado>=5 in /usr/local/lib/python3.7/dist-packages (from distributed<2021.07,>=2.2.0->auto-sklearn) (5.1.1)\n",
            "Requirement already satisfied: msgpack>=0.6.0 in /usr/local/lib/python3.7/dist-packages (from distributed<2021.07,>=2.2.0->auto-sklearn) (1.0.3)\n",
            "Requirement already satisfied: python-dateutil>=2.7.3 in /usr/local/lib/python3.7/dist-packages (from pandas>=1.0->auto-sklearn) (2.8.2)\n",
            "Requirement already satisfied: pytz>=2017.2 in /usr/local/lib/python3.7/dist-packages (from pandas>=1.0->auto-sklearn) (2018.9)\n",
            "Requirement already satisfied: locket in /usr/local/lib/python3.7/dist-packages (from partd>=0.3.10->dask<2021.07->auto-sklearn) (0.2.1)\n",
            "Requirement already satisfied: six>=1.5 in /usr/local/lib/python3.7/dist-packages (from python-dateutil>=2.7.3->pandas>=1.0->auto-sklearn) (1.15.0)\n",
            "Requirement already satisfied: emcee>=3.0.0 in /usr/local/lib/python3.7/dist-packages (from smac>=0.14->auto-sklearn) (3.1.1)\n",
            "Requirement already satisfied: heapdict in /usr/local/lib/python3.7/dist-packages (from zict>=0.1.3->distributed<2021.07,>=2.2.0->auto-sklearn) (1.0.1)\n"
          ]
        }
      ],
      "source": [
        "!pip install auto-sklearn"
      ]
    },
    {
      "cell_type": "code",
      "execution_count": null,
      "metadata": {
        "colab": {
          "base_uri": "https://localhost:8080/"
        },
        "id": "uLeF6s-yIFff",
        "outputId": "5660ef16-9f47-4d60-c41f-71e434127adf"
      },
      "outputs": [
        {
          "name": "stdout",
          "output_type": "stream",
          "text": [
            "Requirement already satisfied: scipy==1.7.1 in /usr/local/lib/python3.7/dist-packages (1.7.1)\n",
            "Requirement already satisfied: numpy<1.23.0,>=1.16.5 in /usr/local/lib/python3.7/dist-packages (from scipy==1.7.1) (1.19.5)\n"
          ]
        }
      ],
      "source": [
        "!pip install --upgrade scipy==1.7.1"
      ]
    },
    {
      "cell_type": "code",
      "execution_count": null,
      "metadata": {
        "id": "UrsSOQ8DHxkM"
      },
      "outputs": [],
      "source": [
        "import sklearn.metrics\n",
        "from sklearn.metrics import roc_auc_score, roc_curve\n",
        "from sklearn.preprocessing import StandardScaler\n",
        "from sklearn.datasets import load_breast_cancer\n",
        "from sklearn.datasets import make_moons, make_circles, make_classification\n",
        "import numpy as np\n",
        "\n",
        "import autosklearn.classification\n",
        "\n"
      ]
    },
    {
      "cell_type": "markdown",
      "metadata": {
        "id": "GYD_WO5sJ7lw"
      },
      "source": [
        "# Circles: Data Loading"
      ]
    },
    {
      "cell_type": "code",
      "execution_count": null,
      "metadata": {
        "id": "dEdqeAy4N50R"
      },
      "outputs": [],
      "source": [
        "# Circles dataset\n",
        "circles_X, circles_y = sklearn.datasets.make_circles(noise=0.2, random_state=1, factor=0.5)\n",
        "X_train, X_test, y_train, y_test = sklearn.model_selection.train_test_split(circles_X,circles_y,random_state=31)\n"
      ]
    },
    {
      "cell_type": "markdown",
      "metadata": {
        "id": "k5fcpMYHJ--8"
      },
      "source": [
        "# Circles: Build and fit a classifier"
      ]
    },
    {
      "cell_type": "code",
      "execution_count": null,
      "metadata": {
        "colab": {
          "base_uri": "https://localhost:8080/",
          "height": 313
        },
        "id": "idM8uLbqJ4Dv",
        "outputId": "dd4d5289-631d-476a-9802-f03c97da6f83"
      },
      "outputs": [
        {
          "data": {
            "text/plain": [
              "<matplotlib.axes._subplots.AxesSubplot at 0x7fc5f9e16ad0>"
            ]
          },
          "execution_count": 3,
          "metadata": {},
          "output_type": "execute_result"
        },
        {
          "data": {
            "image/png": "[encoded data removed]",
            "text/plain": [
              "<Figure size 432x288 with 1 Axes>"
            ]
          },
          "metadata": {},
          "output_type": "display_data"
        }
      ],
      "source": [
        "circle = autosklearn.classification.AutoSklearnClassifier()\n",
        "circle.fit(X_train, y_train)\n",
        "\n",
        "circle.cv_results_  # returns dictionary with keys as col headers and values as columns\n",
        "\n",
        "# returns a dataframe containing the models performance over time\n",
        "circle.performance_over_time_.plot(\n",
        "    x='Timestamp',\n",
        "    kind='line',\n",
        "    legend=True,\n",
        "    title='Auto-sklearn accuracy over time',\n",
        "    grid=True,\n",
        ")\n"
      ]
    },
    {
      "cell_type": "code",
      "execution_count": null,
      "metadata": {
        "id": "KxHoRVTBFyas"
      },
      "outputs": [],
      "source": [
        "# gives the name of the dataset, the metric used and the best validation score obtained\n",
        "circle.sprint_statistics()\n"
      ]
    },
    {
      "cell_type": "code",
      "execution_count": null,
      "metadata": {
        "id": "753AxVyDFztP"
      },
      "outputs": [],
      "source": [
        "# display all models created\n",
        "circle.show_models()"
      ]
    },
    {
      "cell_type": "code",
      "execution_count": null,
      "metadata": {
        "colab": {
          "base_uri": "https://localhost:8080/"
        },
        "id": "UfL3Pi1EQCOH",
        "outputId": "9cbe6928-80c5-49e4-9943-83f04f193120"
      },
      "outputs": [
        {
          "name": "stdout",
          "output_type": "stream",
          "text": [
            "Accuracy score: 0.88\n"
          ]
        }
      ],
      "source": [
        "pred_prob_circle = circle.predict_proba(X_test)\n",
        "\n",
        "predictions = circle.predict(X_test)\n",
        "print(\"Accuracy score:\", sklearn.metrics.accuracy_score(y_test, predictions))"
      ]
    },
    {
      "cell_type": "code",
      "execution_count": null,
      "metadata": {
        "id": "QsaIKou4b5hi"
      },
      "outputs": [],
      "source": [
        "# ROC curve for best circle model\n",
        "fpr_circ, tpr_circ, tresh_circ = roc_curve(y_test, pred_prob_circle[:,1],pos_label =1)\n",
        "\n",
        "# AUC Score\n",
        "auc_score_circ = roc_auc_score(y_test, pred_prob_circle[:,1])\n"
      ]
    },
    {
      "cell_type": "markdown",
      "metadata": {
        "id": "6XBfrKujKGxb"
      },
      "source": [
        "# Circles: View the models found by auto-sklearn"
      ]
    },
    {
      "cell_type": "code",
      "execution_count": null,
      "metadata": {
        "id": "XhheAflwKChb"
      },
      "outputs": [],
      "source": [
        "print(circle.leaderboard())"
      ]
    },
    {
      "cell_type": "code",
      "execution_count": null,
      "metadata": {
        "id": "J3HLbzGmKPgN"
      },
      "outputs": [],
      "source": [
        "#print(cls.show_models())"
      ]
    },
    {
      "cell_type": "code",
      "execution_count": null,
      "metadata": {
        "colab": {
          "base_uri": "https://localhost:8080/"
        },
        "id": "7k06t19NKn3w",
        "outputId": "f89722f3-2e85-440d-fd8a-1470b7a5b208"
      },
      "outputs": [
        {
          "name": "stdout",
          "output_type": "stream",
          "text": [
            "Accuracy score: 0.88\n"
          ]
        }
      ],
      "source": [
        "predictions = circle.predict(X_test)\n",
        "print(\"Accuracy score:\", sklearn.metrics.accuracy_score(y_test, predictions))"
      ]
    },
    {
      "cell_type": "markdown",
      "metadata": {
        "id": "kGwOHrE0a7TT"
      },
      "source": [
        "# Moon Dataset"
      ]
    },
    {
      "cell_type": "code",
      "execution_count": null,
      "metadata": {
        "colab": {
          "base_uri": "https://localhost:8080/"
        },
        "id": "oJWHqN8XKwU9",
        "outputId": "dc546d30-3d05-4a41-ca5e-9423b641a27b"
      },
      "outputs": [
        {
          "name": "stdout",
          "output_type": "stream",
          "text": [
            "Accuracy score: 0.8\n"
          ]
        }
      ],
      "source": [
        "# Moons dataset\n",
        "moon_X, moon_y = sklearn.datasets.make_moons(noise=0.3, random_state=0)\n",
        "X_moon_train, X_moon_test, y_moon_train, y_moon_test = sklearn.model_selection.train_test_split(moon_X,moon_y,random_state=31)\n",
        "\n",
        "# \n",
        "moon = autosklearn.classification.AutoSklearnClassifier()\n",
        "moon.fit(X_moon_train, y_moon_train)\n"
      ]
    },
    {
      "cell_type": "code",
      "execution_count": null,
      "metadata": {
        "colab": {
          "base_uri": "https://localhost:8080/"
        },
        "id": "lI2hyU7LvSDn",
        "outputId": "bbfd43e2-4613-4b8b-b535-44ca939dc361"
      },
      "outputs": [
        {
          "name": "stdout",
          "output_type": "stream",
          "text": [
            "Accuracy score: 0.8\n"
          ]
        }
      ],
      "source": [
        "pred_prob_moon = moon.predict_proba(X_moon_test)\n",
        "\n",
        "# ROC and AUC curve for best moon model\n",
        "fpr_moon, tpr_moon, tresh_moon = roc_curve(y_moon_test, pred_prob_moon[:,1],pos_label =1)\n",
        "auc_score_moon = roc_auc_score(y_moon_test, pred_prob_moon[:,1])\n",
        "\n",
        "# \n",
        "pred = moon.predict(X_moon_test)\n",
        "print(\"Accuracy score:\", sklearn.metrics.accuracy_score(y_moon_test, pred))"
      ]
    },
    {
      "cell_type": "code",
      "execution_count": null,
      "metadata": {
        "colab": {
          "base_uri": "https://localhost:8080/"
        },
        "id": "VQos68nUGKjX",
        "outputId": "b2cb3242-fa8e-4ef7-f03b-f1e7113a8503"
      },
      "outputs": [
        {
          "name": "stdout",
          "output_type": "stream",
          "text": [
            "          rank  ensemble_weight           type  cost  duration\n",
            "model_id                                                      \n",
            "2            1             0.04  random_forest  0.04  1.910229\n",
            "204          2             0.02  random_forest  0.04  1.758544\n",
            "202          3             0.02  random_forest  0.04  2.161933\n",
            "198          4             0.04  random_forest  0.04  1.920479\n",
            "195          5             0.04  random_forest  0.04  2.202078\n",
            "186          6             0.04  random_forest  0.04  2.079329\n",
            "174          7             0.02  random_forest  0.04  2.122981\n",
            "164          8             0.04  random_forest  0.04  2.162659\n",
            "162          9             0.02  random_forest  0.04  2.081647\n",
            "150         10             0.02  random_forest  0.04  2.129200\n",
            "136         11             0.02  random_forest  0.04  2.247468\n",
            "128         12             0.02  random_forest  0.04  1.922426\n",
            "127         13             0.04  random_forest  0.04  1.881563\n",
            "125         14             0.04  random_forest  0.04  1.978313\n",
            "122         15             0.04  random_forest  0.04  2.063214\n",
            "209         16             0.02  random_forest  0.04  1.940006\n",
            "114         17             0.02  random_forest  0.04  1.940048\n",
            "104         18             0.02  random_forest  0.04  2.165172\n",
            "102         19             0.02  random_forest  0.04  1.947763\n",
            "97          20             0.02  random_forest  0.04  2.138222\n",
            "95          21             0.04  random_forest  0.04  2.153119\n",
            "93          22             0.04  random_forest  0.04  1.910995\n",
            "92          23             0.04  random_forest  0.04  2.069231\n",
            "86          24             0.04  random_forest  0.04  2.124317\n",
            "82          25             0.06  random_forest  0.04  2.077400\n",
            "77          26             0.06  random_forest  0.04  2.122563\n",
            "75          27             0.02  random_forest  0.04  1.936215\n",
            "71          28             0.02  decision_tree  0.04  1.068763\n",
            "65          29             0.02  random_forest  0.04  1.907533\n",
            "43          30             0.02  random_forest  0.04  1.772992\n",
            "4           31             0.04     libsvm_svc  0.04  0.957988\n",
            "112         32             0.02  random_forest  0.04  1.935786\n",
            "217         33             0.02  random_forest  0.04  2.122976\n"
          ]
        }
      ],
      "source": [
        "print(moon.leaderboard())"
      ]
    },
    {
      "cell_type": "markdown",
      "metadata": {
        "id": "JVS8LOPKbAHI"
      },
      "source": [
        "# Linearly Separable"
      ]
    },
    {
      "cell_type": "code",
      "execution_count": null,
      "metadata": {
        "id": "wYCGdHAIX1R7"
      },
      "outputs": [],
      "source": [
        "# linearly separable\n",
        "lin_X, lin_y = make_classification(\n",
        "    n_features=2,\n",
        "    n_redundant=0,\n",
        "    n_informative=2,\n",
        "    random_state=1,\n",
        "    n_clusters_per_class=1,\n",
        ")\n",
        "rng = np.random.RandomState(2)\n",
        "lin_X += 2 * rng.uniform(size=lin_X.shape)\n",
        "\n",
        "X_lin_train, X_lin_test, y_lin_train, y_lin_test = sklearn.model_selection.train_test_split(lin_X,lin_y,random_state=31)\n"
      ]
    },
    {
      "cell_type": "code",
      "execution_count": null,
      "metadata": {
        "colab": {
          "base_uri": "https://localhost:8080/"
        },
        "id": "q6hZ39CeiT3A",
        "outputId": "09bf90a6-a46c-4f90-961e-8addef2990ba"
      },
      "outputs": [
        {
          "data": {
            "text/plain": [
              "AutoSklearnClassifier(per_run_time_limit=360)"
            ]
          },
          "execution_count": 10,
          "metadata": {},
          "output_type": "execute_result"
        }
      ],
      "source": [
        "linear = autosklearn.classification.AutoSklearnClassifier()\n",
        "linear.fit(X_lin_train, y_lin_train)\n",
        "\n",
        "# linear.cv_results_  # returns dictionary with keys as col headers and values as columns\n",
        "\n",
        "# # returns a dataframe containing the models performance over time\n",
        "# linear.performance_over_time_.plot(\n",
        "#     x='Timestamp',\n",
        "#     kind='line',\n",
        "#     legend=True,\n",
        "#     title='Auto-sklearn accuracy over time',\n",
        "#     grid=True,\n",
        "# )\n"
      ]
    },
    {
      "cell_type": "code",
      "execution_count": null,
      "metadata": {
        "colab": {
          "base_uri": "https://localhost:8080/"
        },
        "id": "LEhyEQvLinDh",
        "outputId": "d9b27bf0-b4f9-4526-94a2-5f23da203f87"
      },
      "outputs": [
        {
          "name": "stdout",
          "output_type": "stream",
          "text": [
            "Accuracy score: 0.4\n"
          ]
        }
      ],
      "source": [
        "predictions = linear.predict(X_test)\n",
        "print(\"Accuracy score:\", sklearn.metrics.accuracy_score(y_lin_test, predictions))\n"
      ]
    },
    {
      "cell_type": "code",
      "execution_count": null,
      "metadata": {
        "id": "tiZCrpjIinI4"
      },
      "outputs": [],
      "source": [
        "pred_prob_lin = linear.predict_proba(X_lin_test)\n",
        "\n",
        "# ROC and AUC curve for best moon model\n",
        "fpr_lin, tpr_lin, tresh_lin = roc_curve(y_lin_test, pred_prob_lin[:,1],pos_label =1)\n",
        "auc_score_lin = roc_auc_score(y_lin_test, pred_prob_lin[:,1])\n"
      ]
    },
    {
      "cell_type": "markdown",
      "metadata": {
        "id": "3WFr-m17bHOm"
      },
      "source": [
        "# Breast Cancer Dataset "
      ]
    },
    {
      "cell_type": "code",
      "execution_count": null,
      "metadata": {
        "id": "bmT3qMhgRl68"
      },
      "outputs": [],
      "source": [
        "X, y = load_breast_cancer(return_X_y=True)\n",
        "X_cancer_train, X_cancer_test, y_cancer_train, y_cancer_test = sklearn.model_selection.train_test_split(X, y, stratify=y, random_state=0)"
      ]
    },
    {
      "cell_type": "code",
      "execution_count": null,
      "metadata": {
        "colab": {
          "background_save": true
        },
        "id": "slb11SAG8h6S",
        "outputId": "31eaf9a0-00c8-486b-9c56-013426ab2d11"
      },
      "outputs": [
        {
          "name": "stdout",
          "output_type": "stream",
          "text": [
            "Accuracy score: 0.9230769230769231\n"
          ]
        }
      ],
      "source": [
        "cancer = autosklearn.classification.AutoSklearnClassifier()\n",
        "cancer.fit(X_cancer_train, y_cancer_train)\n",
        "\n",
        "predictions = cancer.predict(X_cancer_test)\n",
        "print(\"Accuracy score:\", sklearn.metrics.accuracy_score(y_cancer_test, predictions))\n"
      ]
    },
    {
      "cell_type": "code",
      "execution_count": null,
      "metadata": {
        "colab": {
          "background_save": true
        },
        "id": "-MmMQlr734DE"
      },
      "outputs": [],
      "source": [
        "pred_prob_cancer = cancer.predict_proba(X_cancer_test)\n",
        "\n",
        "# ROC and AUC curve for best moon model\n",
        "fpr_cancer, tpr_cancer, tresh_cancer = roc_curve(y_cancer_test, pred_prob_cancer[:,1],pos_label =1)\n",
        "auc_score_cancer = roc_auc_score(y_cancer_test, pred_prob_cancer[:,1])\n"
      ]
    },
    {
      "cell_type": "code",
      "execution_count": null,
      "metadata": {
        "colab": {
          "background_save": true
        },
        "id": "P_ZvPHqGRjAE",
        "outputId": "5aed3749-0082-4f3d-ab9c-ed78c58399e1"
      },
      "outputs": [
        {
          "data": {
            "image/png": "[encoded data removed]",
            "text/plain": [
              "<Figure size 576x396 with 1 Axes>"
            ]
          },
          "metadata": {},
          "output_type": "display_data"
        }
      ],
      "source": [
        "import matplotlib.pyplot as plt\n",
        "plt.style.use('seaborn')\n",
        "\n",
        "\n",
        "# roc curve for tpr = fpr \n",
        "rand_prob= [0 for i in range(len(y_test))]\n",
        "p_fpr, p_tpr, _ = roc_curve(y_test, rand_prob,pos_label=1)\n",
        "\n",
        "\n",
        "# plot roc curves\n",
        "plt.plot(fpr_cancer, tpr_cancer, linestyle='--', color='orange',label= 'Breast Cancer sklearn')\n",
        "plt.plot(fpr_moon, tpr_moon, linestyle='--', color='green',label= 'Moons sklearn')\n",
        "plt.plot(fpr_circ, tpr_circ, linestyle='--', color='blue',label= 'Circles sklearn')\n",
        "plt.plot(fpr_lin, tpr_lin, linestyle='--', color='red',label= 'Linearly Separable sklearn')\n",
        "plt.plot(p_fpr, p_tpr, linestyle='--', color='black')\n",
        "plt.title(\"ROC Curve\")\n",
        "plt.xlabel(\"False Positive Rate\")\n",
        "plt.ylabel(\"True Positive Rate\")\n",
        "plt.legend(loc='best')\n",
        "plt.show()\n"
      ]
    },
    {
      "cell_type": "code",
      "execution_count": null,
      "metadata": {
        "id": "pWdoFsI2_peQ"
      },
      "outputs": [],
      "source": [
        ""
      ]
    }
  ],
  "metadata": {
    "colab": {
      "collapsed_sections": [],
      "name": "Auto-Sklearn.ipynb",
      "provenance": [],
      "authorship_tag": "ABX9TyNq5fG+ggDiIOVj6Yh8tInN",
      "include_colab_link": true
    },
    "kernelspec": {
      "display_name": "Python 3",
      "name": "python3"
    },
    "language_info": {
      "name": "python"
    }
  },
  "nbformat": 4,
  "nbformat_minor": 0
}