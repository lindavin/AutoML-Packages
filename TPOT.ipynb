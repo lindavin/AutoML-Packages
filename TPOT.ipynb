{
  "cells": [
    {
      "cell_type": "markdown",
      "metadata": {
        "id": "view-in-github",
        "colab_type": "text"
      },
      "source": [
        "<a href=\"https://colab.research.google.com/github/padmapraba/AutoML-Packages/blob/main/TPOT.ipynb\" target=\"_parent\"><img src=\"https://colab.research.google.com/assets/colab-badge.svg\" alt=\"Open In Colab\"/></a>"
      ]
    },
    {
      "cell_type": "code",
      "execution_count": 4,
      "metadata": {
        "colab": {
          "base_uri": "https://localhost:8080/"
        },
        "id": "oeOzaqobL2DW",
        "outputId": "773a0230-bdcd-42c7-ec81-3600c3a06b0f"
      },
      "outputs": [
        {
          "output_type": "stream",
          "name": "stdout",
          "text": [
            "Requirement already satisfied: tpot in /usr/local/lib/python3.7/dist-packages (0.11.7)\n",
            "Requirement already satisfied: tqdm>=4.36.1 in /usr/local/lib/python3.7/dist-packages (from tpot) (4.62.3)\n",
            "Requirement already satisfied: joblib>=0.13.2 in /usr/local/lib/python3.7/dist-packages (from tpot) (1.1.0)\n",
            "Requirement already satisfied: scikit-learn>=0.22.0 in /usr/local/lib/python3.7/dist-packages (from tpot) (1.0.1)\n",
            "Requirement already satisfied: stopit>=1.1.1 in /usr/local/lib/python3.7/dist-packages (from tpot) (1.1.2)\n",
            "Requirement already satisfied: numpy>=1.16.3 in /usr/local/lib/python3.7/dist-packages (from tpot) (1.19.5)\n",
            "Requirement already satisfied: deap>=1.2 in /usr/local/lib/python3.7/dist-packages (from tpot) (1.3.1)\n",
            "Requirement already satisfied: update-checker>=0.16 in /usr/local/lib/python3.7/dist-packages (from tpot) (0.18.0)\n",
            "Requirement already satisfied: xgboost>=1.1.0 in /usr/local/lib/python3.7/dist-packages (from tpot) (1.5.1)\n",
            "Requirement already satisfied: scipy>=1.3.1 in /usr/local/lib/python3.7/dist-packages (from tpot) (1.4.1)\n",
            "Requirement already satisfied: pandas>=0.24.2 in /usr/local/lib/python3.7/dist-packages (from tpot) (1.1.5)\n",
            "Requirement already satisfied: python-dateutil>=2.7.3 in /usr/local/lib/python3.7/dist-packages (from pandas>=0.24.2->tpot) (2.8.2)\n",
            "Requirement already satisfied: pytz>=2017.2 in /usr/local/lib/python3.7/dist-packages (from pandas>=0.24.2->tpot) (2018.9)\n",
            "Requirement already satisfied: six>=1.5 in /usr/local/lib/python3.7/dist-packages (from python-dateutil>=2.7.3->pandas>=0.24.2->tpot) (1.15.0)\n",
            "Requirement already satisfied: threadpoolctl>=2.0.0 in /usr/local/lib/python3.7/dist-packages (from scikit-learn>=0.22.0->tpot) (3.0.0)\n",
            "Requirement already satisfied: requests>=2.3.0 in /usr/local/lib/python3.7/dist-packages (from update-checker>=0.16->tpot) (2.23.0)\n",
            "Requirement already satisfied: idna<3,>=2.5 in /usr/local/lib/python3.7/dist-packages (from requests>=2.3.0->update-checker>=0.16->tpot) (2.10)\n",
            "Requirement already satisfied: chardet<4,>=3.0.2 in /usr/local/lib/python3.7/dist-packages (from requests>=2.3.0->update-checker>=0.16->tpot) (3.0.4)\n",
            "Requirement already satisfied: urllib3!=1.25.0,!=1.25.1,<1.26,>=1.21.1 in /usr/local/lib/python3.7/dist-packages (from requests>=2.3.0->update-checker>=0.16->tpot) (1.24.3)\n",
            "Requirement already satisfied: certifi>=2017.4.17 in /usr/local/lib/python3.7/dist-packages (from requests>=2.3.0->update-checker>=0.16->tpot) (2021.10.8)\n"
          ]
        }
      ],
      "source": [
        "pip install tpot"
      ]
    },
    {
      "cell_type": "code",
      "execution_count": 5,
      "metadata": {
        "id": "NzVxDHbhKz46"
      },
      "outputs": [],
      "source": [
        "from tpot import TPOTClassifier\n",
        "import sklearn.datasets\n",
        "import sklearn.metrics\n",
        "from sklearn.preprocessing import StandardScaler\n",
        "from sklearn.metrics import log_loss, accuracy_score, roc_curve, roc_auc_score\n",
        "from sklearn.datasets import make_moons, make_circles, make_classification, load_breast_cancer\n",
        "import numpy as np"
      ]
    },
    {
      "cell_type": "markdown",
      "metadata": {
        "id": "kzS1XtJUK7MD"
      },
      "source": [
        "### Step 1: Create an instance of TPOT"
      ]
    },
    {
      "cell_type": "code",
      "execution_count": 6,
      "metadata": {
        "id": "_noMmOrJK8Dl"
      },
      "outputs": [],
      "source": [
        "circle = TPOTClassifier()\n",
        "moon = TPOTClassifier()\n",
        "linear = TPOTClassifier()\n",
        "cancer = TPOTClassifier()"
      ]
    },
    {
      "cell_type": "markdown",
      "metadata": {
        "id": "QM7Rqw2AK--Q"
      },
      "source": [
        "### Step 2: Data"
      ]
    },
    {
      "cell_type": "code",
      "execution_count": 7,
      "metadata": {
        "id": "buPLD4dGLCNG"
      },
      "outputs": [],
      "source": [
        "# Circles\n",
        "circles_X, circles_y = sklearn.datasets.make_circles(noise=0.2, random_state=1, factor=0.5)\n",
        "X_circ_train, X_circ_test, y_circ_train, y_circ_test = sklearn.model_selection.train_test_split(circles_X,circles_y,random_state=31)"
      ]
    },
    {
      "cell_type": "markdown",
      "metadata": {
        "id": "wWTvFUx7LWlg"
      },
      "source": [
        "### Step 3: Optimize pipeline for Data"
      ]
    },
    {
      "cell_type": "code",
      "execution_count": 8,
      "metadata": {
        "id": "_CplxdJILXFs",
        "colab": {
          "base_uri": "https://localhost:8080/"
        },
        "outputId": "4ad16f21-54a3-4663-8fda-e52811ca1864"
      },
      "outputs": [
        {
          "output_type": "stream",
          "name": "stdout",
          "text": [
            "0.92\n"
          ]
        }
      ],
      "source": [
        "circle.fit(X_circ_train, y_circ_train)\n",
        "print(circle.score(X_circ_test, y_circ_test))\n"
      ]
    },
    {
      "cell_type": "code",
      "source": [
        "pred_prob = circle.predict_proba(X_circ_test)\n",
        "# roc & auc\n",
        "fpr_circ, tpr_circ, thresh_circ = roc_curve(y_circ_test, pred_prob[:,1],pos_label=1)\n",
        "auc_score_cancer = roc_auc_score(y_circ_test, pred_prob[:,1])\n"
      ],
      "metadata": {
        "id": "xxQEc9MtC2ck"
      },
      "execution_count": 10,
      "outputs": []
    },
    {
      "cell_type": "markdown",
      "metadata": {
        "id": "MQS7qpMdAjdt"
      },
      "source": [
        "# Moons"
      ]
    },
    {
      "cell_type": "code",
      "execution_count": 11,
      "metadata": {
        "colab": {
          "base_uri": "https://localhost:8080/"
        },
        "id": "2YkLWxFFLfIH",
        "outputId": "a27833a1-bb52-4035-d6ba-4adc0f14b1a3"
      },
      "outputs": [
        {
          "output_type": "stream",
          "name": "stdout",
          "text": [
            "0.84\n"
          ]
        }
      ],
      "source": [
        "# Create Moons dataset and split into test and train\n",
        "moons_X, moons_y = sklearn.datasets.make_moons(noise=0.3, random_state=0)\n",
        "X_moon_train, X_moon_test, y_moon_train, y_moon_test = sklearn.model_selection.train_test_split(moons_X,moons_y,random_state=31)\n",
        "\n",
        "# fit the data to the model\n",
        "moon.fit(X_moon_train, y_moon_train)\n",
        "\n",
        "# results of the model obtained by TPOT\n",
        "print(moon.score(X_moon_test, y_moon_test))\n",
        "\n"
      ]
    },
    {
      "cell_type": "code",
      "source": [
        "pred_prob = moon.predict_proba(X_moon_test)\n",
        "# roc & auc\n",
        "fpr_moon, tpr_moon, thresh_moon = roc_curve(y_moon_test, pred_prob[:,1],pos_label=1)\n",
        "auc_score_moon = roc_auc_score(y_moon_test, pred_prob[:,1])"
      ],
      "metadata": {
        "id": "QTUiGdLCDW9Y"
      },
      "execution_count": 12,
      "outputs": []
    },
    {
      "cell_type": "markdown",
      "metadata": {
        "id": "VHtDy88FAmFZ"
      },
      "source": [
        "# Linearly Separable"
      ]
    },
    {
      "cell_type": "code",
      "execution_count": 13,
      "metadata": {
        "id": "IxfdX1i6LiYr",
        "colab": {
          "base_uri": "https://localhost:8080/"
        },
        "outputId": "963a6478-ed0b-426b-c725-f9c0ffabdf80"
      },
      "outputs": [
        {
          "output_type": "stream",
          "name": "stdout",
          "text": [
            "0.96\n"
          ]
        }
      ],
      "source": [
        "# Linearly Separable\n",
        "lin_X, lin_y = make_classification(\n",
        "    n_features=2,\n",
        "    n_redundant=0,\n",
        "    n_informative=2,\n",
        "    random_state=1,\n",
        "    n_clusters_per_class=1,\n",
        ")\n",
        "rng = np.random.RandomState(2)\n",
        "lin_X += 2 * rng.uniform(size=lin_X.shape)\n",
        "\n",
        "X_lin_train, X_lin_test, y_lin_train, y_lin_test = sklearn.model_selection.train_test_split(lin_X,lin_y,random_state=31)\n",
        "\n",
        "# fit the data to the model\n",
        "linear.fit(X_lin_train, y_lin_train)\n",
        "\n",
        "# results of the model obtained by TPOT\n",
        "print(linear.score(X_lin_test, y_lin_test))\n",
        "\n",
        "\n",
        "\n"
      ]
    },
    {
      "cell_type": "code",
      "source": [
        "pred_prob = linear.predict_proba(X_lin_test)\n",
        "# roc & auc\n",
        "fpr_lin, tpr_lin, thresh_lin = roc_curve(y_lin_test, pred_prob[:,1],pos_label=1)\n",
        "auc_score_linear = roc_auc_score(y_lin_test, pred_prob[:,1])"
      ],
      "metadata": {
        "id": "KzBMmyO5DYyB"
      },
      "execution_count": 14,
      "outputs": []
    },
    {
      "cell_type": "markdown",
      "metadata": {
        "id": "lzTlHfXnAvvL"
      },
      "source": [
        "# Breast Cancer Dataset"
      ]
    },
    {
      "cell_type": "code",
      "execution_count": 15,
      "metadata": {
        "id": "1SEx7tfyLlDp",
        "colab": {
          "base_uri": "https://localhost:8080/"
        },
        "outputId": "fc6ff46e-c302-4aab-ef28-87be16b3fff1"
      },
      "outputs": [
        {
          "output_type": "stream",
          "name": "stdout",
          "text": [
            "0.972027972027972\n"
          ]
        }
      ],
      "source": [
        "# Breaset Cancer Dataset\n",
        "\n",
        "# load data and split\n",
        "X, y = load_breast_cancer(return_X_y=True)\n",
        "X_train, X_test, y_train, y_test = sklearn.model_selection.train_test_split(X, y, stratify=y, random_state=0)\n",
        "\n",
        "# fit the data to the model\n",
        "cancer.fit(X_train, y_train)\n",
        "\n",
        "# results of the model obtained by TPOT\n",
        "print(cancer.score(X_test, y_test))\n",
        "\n"
      ]
    },
    {
      "cell_type": "code",
      "source": [
        "pred_prob = cancer.predict_proba(X_test)\n",
        "# roc & auc\n",
        "fpr_cancer, tpr_cancer, thresh_cancer = roc_curve(y_test, pred_prob[:,1],pos_label=1)\n",
        "auc_score_cancer = roc_auc_score(y_test, pred_prob[:,1])"
      ],
      "metadata": {
        "id": "yjZCDCfXDa3n"
      },
      "execution_count": 16,
      "outputs": []
    },
    {
      "cell_type": "code",
      "execution_count": 17,
      "metadata": {
        "id": "-SLnoJ6EVYyQ",
        "colab": {
          "base_uri": "https://localhost:8080/",
          "height": 376
        },
        "outputId": "f82e8765-5aa5-45de-b1cc-becbfda5dfe3"
      },
      "outputs": [
        {
          "output_type": "display_data",
          "data": {
            "image/png": "[encoded data removed]",
            "text/plain": [
              "<Figure size 576x396 with 1 Axes>"
            ]
          },
          "metadata": {}
        }
      ],
      "source": [
        "import matplotlib.pyplot as plt\n",
        "plt.style.use('seaborn')\n",
        "\n",
        "\n",
        "\n",
        "# roc curve for tpr = fpr \n",
        "rand_prob= [0 for i in range(len(y_test))]\n",
        "p_fpr, p_tpr, _ = roc_curve(y_test, rand_prob,pos_label=1)\n",
        "\n",
        "\n",
        "# plot roc curves\n",
        "plt.plot(fpr_cancer, tpr_cancer, linestyle='--', color='orange',label= 'Breast Cancer TPOT')\n",
        "plt.plot(fpr_moon, tpr_moon, linestyle='--', color='green',label= 'Moons TPOT')\n",
        "plt.plot(fpr_circ, tpr_circ, linestyle='--', color='blue',label= 'Circles TPOT')\n",
        "plt.plot(fpr_lin, tpr_lin, linestyle='--', color='red',label= 'Linearly Separable TPOT')\n",
        "plt.plot(p_fpr, p_tpr, linestyle='--', color='black')\n",
        "plt.title(\"ROC Curve\")\n",
        "plt.xlabel(\"False Positive Rate\")\n",
        "plt.ylabel(\"True Positive Rate\")\n",
        "plt.legend(loc='best')\n",
        "plt.show()\n"
      ]
    },
    {
      "cell_type": "code",
      "execution_count": null,
      "metadata": {
        "id": "YBjguzIaXaFB"
      },
      "outputs": [],
      "source": [
        ""
      ]
    }
  ],
  "metadata": {
    "colab": {
      "collapsed_sections": [],
      "name": "TPOT.ipynb",
      "provenance": [],
      "authorship_tag": "ABX9TyOh6IcR+yDMKRDLXGUEDleY",
      "include_colab_link": true
    },
    "kernelspec": {
      "display_name": "Python 3",
      "name": "python3"
    },
    "language_info": {
      "name": "python"
    },
    "accelerator": "GPU"
  },
  "nbformat": 4,
  "nbformat_minor": 0
}